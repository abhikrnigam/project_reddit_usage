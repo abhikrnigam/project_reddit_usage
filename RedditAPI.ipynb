{
 "cells": [
  {
   "cell_type": "code",
   "execution_count": 1,
   "id": "5e1a83a2",
   "metadata": {},
   "outputs": [
    {
     "name": "stdout",
     "output_type": "stream",
     "text": [
      "7.7.1\n"
     ]
    }
   ],
   "source": [
    "import pandas as pd \n",
    "import numpy as np\n",
    "import matplotlib.pyplot as plt\n",
    "import cred as c\n",
    "\n",
    "## Praw is specifically for reddit api\n",
    "import praw\n",
    "\n",
    "print(praw.__version__)"
   ]
  },
  {
   "cell_type": "code",
   "execution_count": 2,
   "id": "e89909f1",
   "metadata": {},
   "outputs": [],
   "source": [
    "reddit = praw.Reddit(\n",
    "client_id = c.client_id,\n",
    "client_secret  = c.client_secret,\n",
    "user_agent = c.agent\n",
    ")"
   ]
  },
  {
   "cell_type": "code",
   "execution_count": 30,
   "id": "e24c8fa0",
   "metadata": {},
   "outputs": [
    {
     "name": "stdout",
     "output_type": "stream",
     "text": [
      "                                               title      id  \\\n",
      "0  USA: 2022 Pennsylvania Elections: Donald Trump...  xtq5d5   \n",
      "1  Not sure who to vote for in the Quebec electio...  xtq5d5   \n",
      "2  2022 Michigan Elections: Georgia Republican US...  xtq5d5   \n",
      "3  Democratic US Senator Tammy Baldwin Of Wiscons...  xtq5d5   \n",
      "4  2022 US Elections: How To Vote In Person Or By...  xtq5d5   \n",
      "\n",
      "             author selftext  score   created_utc  upvote_ratio  num_comments  \\\n",
      "0     Motor-Ad-8858               9  1.664721e+09           1.0            19   \n",
      "1  Over_Mixture3252               1  1.664717e+09           1.0             1   \n",
      "2     Motor-Ad-8858               8  1.664697e+09           1.0             5   \n",
      "3     Motor-Ad-8858              20  1.664632e+09           1.0             1   \n",
      "4     Motor-Ad-8858               3  1.664530e+09           1.0             0   \n",
      "\n",
      "   subreddit                                                url  over_18  \\\n",
      "0  elections  https://apnews.com/article/2022-midterm-electi...    False   \n",
      "1  elections  https://www.cbc.ca/news/canada/montreal/quebec...    False   \n",
      "2  elections  https://www.dailykos.com/story/2022/10/1/21264...    False   \n",
      "3  elections  https://www.huffpost.com/entry/tammy-baldwin-r...    False   \n",
      "4  elections  https://www.propublica.org/article/how-to-vote...    False   \n",
      "\n",
      "   edited  num_crossposts                                          permalink  \\\n",
      "0   False               0  /r/elections/comments/xtq5d5/usa_2022_pennsylv...   \n",
      "1   False               0  /r/elections/comments/xtokv2/not_sure_who_to_v...   \n",
      "2   False               0  /r/elections/comments/xtivq1/2022_michigan_ele...   \n",
      "3   False               0  /r/elections/comments/xsvkec/democratic_us_sen...   \n",
      "4   False               0  /r/elections/comments/xrwyj1/2022_us_elections...   \n",
      "\n",
      "                                            comments  \n",
      "0  [(The best thing Republicans could do is shed ...  \n",
      "1  [(which ones froze the bank accounts of the fa...  \n",
      "2  [(There are so many crazies in the GOP right n...  \n",
      "3  [(Republicans, the older the candidate the bet...  \n",
      "4                                                 []  \n"
     ]
    }
   ],
   "source": [
    "submission_list = []\n",
    "\n",
    "\n",
    "subreddit = reddit.subreddit('elections').new(limit=None)\n",
    "\n",
    "## create a dict of the data and then convert it to DataFrame\n",
    "for submission in subreddit:\n",
    "    \n",
    "    ## extracting the submission id using the submission for extracting the comments\n",
    "    ## comments are extracted with the respective score of the comment\n",
    "    submission_comment = reddit.submission(id=submission.id)\n",
    "    submission_comment.comments.replace_more(limit=None)\n",
    "    comments = [(comment.body,comment.score) for comment in submission_comment.comments.list()]\n",
    "\n",
    "    submission_data = {\n",
    "        'title': submission.title,\n",
    "        'id': submission_id,\n",
    "        'author': str(submission.author),\n",
    "        'selftext': submission.selftext,\n",
    "        'score': submission.score,\n",
    "        'created_utc': submission.created_utc,\n",
    "        'upvote_ratio': submission.upvote_ratio,\n",
    "        'num_comments': submission.num_comments,\n",
    "        'subreddit': str(submission.subreddit),\n",
    "        'url': submission.url,\n",
    "        'over_18': submission.over_18,\n",
    "        'edited': submission.edited,\n",
    "        'num_crossposts': submission.num_crossposts,\n",
    "        'permalink': submission.permalink,\n",
    "        'comments':comments\n",
    "    }\n",
    "    submission_list.append(submission_data)\n",
    "    \n",
    "    \n",
    "\n",
    "# convert the list of dictionaries to a DataFrame\n",
    "df = pd.DataFrame(submission_list)\n",
    "\n",
    "# display the DataFrame\n",
    "print(df)"
   ]
  },
  {
   "cell_type": "code",
   "execution_count": 45,
   "id": "cf9ac017",
   "metadata": {},
   "outputs": [
    {
     "data": {
      "text/plain": [
       "<bound method DataFrame.info of                                                title      id  \\\n",
       "0  USA: 2022 Pennsylvania Elections: Donald Trump...  xtq5d5   \n",
       "1  Not sure who to vote for in the Quebec electio...  xtq5d5   \n",
       "2  2022 Michigan Elections: Georgia Republican US...  xtq5d5   \n",
       "3  Democratic US Senator Tammy Baldwin Of Wiscons...  xtq5d5   \n",
       "4  2022 US Elections: How To Vote In Person Or By...  xtq5d5   \n",
       "\n",
       "             author selftext  score   created_utc  upvote_ratio  num_comments  \\\n",
       "0     Motor-Ad-8858               9  1.664721e+09           1.0            19   \n",
       "1  Over_Mixture3252               1  1.664717e+09           1.0             1   \n",
       "2     Motor-Ad-8858               8  1.664697e+09           1.0             5   \n",
       "3     Motor-Ad-8858              20  1.664632e+09           1.0             1   \n",
       "4     Motor-Ad-8858               3  1.664530e+09           1.0             0   \n",
       "\n",
       "   subreddit                                                url  over_18  \\\n",
       "0  elections  https://apnews.com/article/2022-midterm-electi...    False   \n",
       "1  elections  https://www.cbc.ca/news/canada/montreal/quebec...    False   \n",
       "2  elections  https://www.dailykos.com/story/2022/10/1/21264...    False   \n",
       "3  elections  https://www.huffpost.com/entry/tammy-baldwin-r...    False   \n",
       "4  elections  https://www.propublica.org/article/how-to-vote...    False   \n",
       "\n",
       "   edited  num_crossposts                                          permalink  \\\n",
       "0   False               0  /r/elections/comments/xtq5d5/usa_2022_pennsylv...   \n",
       "1   False               0  /r/elections/comments/xtokv2/not_sure_who_to_v...   \n",
       "2   False               0  /r/elections/comments/xtivq1/2022_michigan_ele...   \n",
       "3   False               0  /r/elections/comments/xsvkec/democratic_us_sen...   \n",
       "4   False               0  /r/elections/comments/xrwyj1/2022_us_elections...   \n",
       "\n",
       "                                            comments  \n",
       "0  [(The best thing Republicans could do is shed ...  \n",
       "1  [(which ones froze the bank accounts of the fa...  \n",
       "2  [(There are so many crazies in the GOP right n...  \n",
       "3  [(Republicans, the older the candidate the bet...  \n",
       "4                                                 []  >"
      ]
     },
     "execution_count": 45,
     "metadata": {},
     "output_type": "execute_result"
    }
   ],
   "source": [
    "df.info"
   ]
  },
  {
   "cell_type": "code",
   "execution_count": 46,
   "id": "d16db17f",
   "metadata": {},
   "outputs": [
    {
     "data": {
      "text/plain": [
       "<bound method NDFrame.describe of                                                title      id  \\\n",
       "0  USA: 2022 Pennsylvania Elections: Donald Trump...  xtq5d5   \n",
       "1  Not sure who to vote for in the Quebec electio...  xtq5d5   \n",
       "2  2022 Michigan Elections: Georgia Republican US...  xtq5d5   \n",
       "3  Democratic US Senator Tammy Baldwin Of Wiscons...  xtq5d5   \n",
       "4  2022 US Elections: How To Vote In Person Or By...  xtq5d5   \n",
       "\n",
       "             author selftext  score   created_utc  upvote_ratio  num_comments  \\\n",
       "0     Motor-Ad-8858               9  1.664721e+09           1.0            19   \n",
       "1  Over_Mixture3252               1  1.664717e+09           1.0             1   \n",
       "2     Motor-Ad-8858               8  1.664697e+09           1.0             5   \n",
       "3     Motor-Ad-8858              20  1.664632e+09           1.0             1   \n",
       "4     Motor-Ad-8858               3  1.664530e+09           1.0             0   \n",
       "\n",
       "   subreddit                                                url  over_18  \\\n",
       "0  elections  https://apnews.com/article/2022-midterm-electi...    False   \n",
       "1  elections  https://www.cbc.ca/news/canada/montreal/quebec...    False   \n",
       "2  elections  https://www.dailykos.com/story/2022/10/1/21264...    False   \n",
       "3  elections  https://www.huffpost.com/entry/tammy-baldwin-r...    False   \n",
       "4  elections  https://www.propublica.org/article/how-to-vote...    False   \n",
       "\n",
       "   edited  num_crossposts                                          permalink  \\\n",
       "0   False               0  /r/elections/comments/xtq5d5/usa_2022_pennsylv...   \n",
       "1   False               0  /r/elections/comments/xtokv2/not_sure_who_to_v...   \n",
       "2   False               0  /r/elections/comments/xtivq1/2022_michigan_ele...   \n",
       "3   False               0  /r/elections/comments/xsvkec/democratic_us_sen...   \n",
       "4   False               0  /r/elections/comments/xrwyj1/2022_us_elections...   \n",
       "\n",
       "                                            comments  \n",
       "0  [(The best thing Republicans could do is shed ...  \n",
       "1  [(which ones froze the bank accounts of the fa...  \n",
       "2  [(There are so many crazies in the GOP right n...  \n",
       "3  [(Republicans, the older the candidate the bet...  \n",
       "4                                                 []  >"
      ]
     },
     "execution_count": 46,
     "metadata": {},
     "output_type": "execute_result"
    }
   ],
   "source": [
    "df.describe"
   ]
  },
  {
   "cell_type": "code",
   "execution_count": 47,
   "id": "fd864efa",
   "metadata": {},
   "outputs": [
    {
     "data": {
      "text/plain": [
       "Index(['title', 'id', 'author', 'selftext', 'score', 'created_utc',\n",
       "       'upvote_ratio', 'num_comments', 'subreddit', 'url', 'over_18', 'edited',\n",
       "       'num_crossposts', 'permalink', 'comments'],\n",
       "      dtype='object')"
      ]
     },
     "execution_count": 47,
     "metadata": {},
     "output_type": "execute_result"
    }
   ],
   "source": [
    "df.columns"
   ]
  },
  {
   "cell_type": "code",
   "execution_count": 49,
   "id": "c8397387",
   "metadata": {},
   "outputs": [],
   "source": [
    "df.to_csv('reddit_submission_with_comment.csv', encoding='utf-8',sep=',')"
   ]
  },
  {
   "cell_type": "code",
   "execution_count": null,
   "id": "06585732",
   "metadata": {},
   "outputs": [],
   "source": []
  },
  {
   "cell_type": "code",
   "execution_count": null,
   "id": "ad91e2fb",
   "metadata": {},
   "outputs": [],
   "source": []
  },
  {
   "cell_type": "code",
   "execution_count": 37,
   "id": "34f24c8e",
   "metadata": {},
   "outputs": [],
   "source": []
  },
  {
   "cell_type": "code",
   "execution_count": null,
   "id": "ede968e6",
   "metadata": {},
   "outputs": [],
   "source": []
  },
  {
   "cell_type": "code",
   "execution_count": null,
   "id": "e31fd720",
   "metadata": {},
   "outputs": [],
   "source": []
  },
  {
   "cell_type": "code",
   "execution_count": null,
   "id": "cd9f4767",
   "metadata": {},
   "outputs": [],
   "source": []
  },
  {
   "cell_type": "code",
   "execution_count": 41,
   "id": "9fc2dc84",
   "metadata": {},
   "outputs": [],
   "source": []
  },
  {
   "cell_type": "code",
   "execution_count": null,
   "id": "46cc646b",
   "metadata": {},
   "outputs": [],
   "source": []
  },
  {
   "cell_type": "code",
   "execution_count": 43,
   "id": "4feeb6b5",
   "metadata": {},
   "outputs": [],
   "source": []
  },
  {
   "cell_type": "code",
   "execution_count": null,
   "id": "81efc09f",
   "metadata": {},
   "outputs": [],
   "source": []
  },
  {
   "cell_type": "code",
   "execution_count": null,
   "id": "0060138f",
   "metadata": {},
   "outputs": [],
   "source": []
  }
 ],
 "metadata": {
  "kernelspec": {
   "display_name": "Python 3 (ipykernel)",
   "language": "python",
   "name": "python3"
  },
  "language_info": {
   "codemirror_mode": {
    "name": "ipython",
    "version": 3
   },
   "file_extension": ".py",
   "mimetype": "text/x-python",
   "name": "python",
   "nbconvert_exporter": "python",
   "pygments_lexer": "ipython3",
   "version": "3.11.7"
  }
 },
 "nbformat": 4,
 "nbformat_minor": 5
}
